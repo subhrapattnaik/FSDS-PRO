{
  "cells": [
    {
      "cell_type": "markdown",
      "metadata": {
        "id": "view-in-github",
        "colab_type": "text"
      },
      "source": [
        "<a href=\"https://colab.research.google.com/github/subhrapattnaik/FSDS-PRO/blob/main/class1.ipynb\" target=\"_parent\"><img src=\"https://colab.research.google.com/assets/colab-badge.svg\" alt=\"Open In Colab\"/></a>"
      ]
    },
    {
      "cell_type": "code",
      "execution_count": null,
      "id": "b3f12a8a-be7d-49cc-8ef7-20be1602900a",
      "metadata": {
        "id": "b3f12a8a-be7d-49cc-8ef7-20be1602900a"
      },
      "outputs": [],
      "source": [
        "# HIIIIIII"
      ]
    },
    {
      "cell_type": "code",
      "execution_count": null,
      "id": "78ecc30b-f365-4df8-9fa6-bba502c92237",
      "metadata": {
        "id": "78ecc30b-f365-4df8-9fa6-bba502c92237"
      },
      "outputs": [],
      "source": [
        "1. NUMERIC --- INT,FLOAT,COMPLEX\n",
        "2. STRING - STR\n",
        "3. LIST\n",
        "TUPLE\n",
        "DICT\n",
        "SETS"
      ]
    },
    {
      "cell_type": "code",
      "execution_count": null,
      "id": "f79f28d0-4ea0-4706-b296-dcc70cea7558",
      "metadata": {
        "id": "f79f28d0-4ea0-4706-b296-dcc70cea7558"
      },
      "outputs": [],
      "source": [
        "x=10"
      ]
    },
    {
      "cell_type": "code",
      "execution_count": null,
      "id": "df6a4322-9174-44cf-ad66-2b63bd298bfb",
      "metadata": {
        "id": "df6a4322-9174-44cf-ad66-2b63bd298bfb"
      },
      "outputs": [],
      "source": [
        "x=1.34"
      ]
    },
    {
      "cell_type": "code",
      "execution_count": null,
      "id": "d0e9f54c-6c06-4690-9c7b-02d9ec108b97",
      "metadata": {
        "id": "d0e9f54c-6c06-4690-9c7b-02d9ec108b97"
      },
      "outputs": [],
      "source": [
        "x=\"imran\""
      ]
    },
    {
      "cell_type": "code",
      "execution_count": null,
      "id": "4dac4362-727f-4b6b-b7d5-3267244fe58c",
      "metadata": {
        "id": "4dac4362-727f-4b6b-b7d5-3267244fe58c"
      },
      "outputs": [],
      "source": [
        "x=['hi',4,3.14]"
      ]
    },
    {
      "cell_type": "code",
      "execution_count": null,
      "id": "32aceda8-497a-4bf1-a21d-9420f5798172",
      "metadata": {
        "id": "32aceda8-497a-4bf1-a21d-9420f5798172"
      },
      "outputs": [],
      "source": [
        "y={'name':'imran'}"
      ]
    },
    {
      "cell_type": "code",
      "execution_count": null,
      "id": "a5add821-d2ba-4cee-b17e-aaeb0f8908ce",
      "metadata": {
        "id": "a5add821-d2ba-4cee-b17e-aaeb0f8908ce"
      },
      "outputs": [],
      "source": [
        "h=(1,2,3,5)"
      ]
    },
    {
      "cell_type": "code",
      "execution_count": null,
      "id": "f250183b-3372-40f9-8149-b372f2831250",
      "metadata": {
        "id": "f250183b-3372-40f9-8149-b372f2831250",
        "outputId": "85abb8d7-0acd-4055-b2a2-eb7884008609"
      },
      "outputs": [
        {
          "data": {
            "text/plain": [
              "dict"
            ]
          },
          "execution_count": 8,
          "metadata": {},
          "output_type": "execute_result"
        }
      ],
      "source": [
        "type(y)"
      ]
    },
    {
      "cell_type": "code",
      "execution_count": null,
      "id": "df580999-21ee-49ff-be32-4b2dd37c2b58",
      "metadata": {
        "id": "df580999-21ee-49ff-be32-4b2dd37c2b58",
        "outputId": "7b3bec7f-6ebe-4a31-dd92-b23562e644bb"
      },
      "outputs": [
        {
          "name": "stdin",
          "output_type": "stream",
          "text": [
            " \"hi\"\n"
          ]
        }
      ],
      "source": [
        "x=input()"
      ]
    },
    {
      "cell_type": "code",
      "execution_count": null,
      "id": "e3dee209-363c-4d4b-82da-dd4f6161cd14",
      "metadata": {
        "id": "e3dee209-363c-4d4b-82da-dd4f6161cd14",
        "outputId": "74552872-5ac6-47d8-9038-6ae82d67af76"
      },
      "outputs": [
        {
          "data": {
            "text/plain": [
              "'\"hi\"'"
            ]
          },
          "execution_count": 10,
          "metadata": {},
          "output_type": "execute_result"
        }
      ],
      "source": [
        "x"
      ]
    },
    {
      "cell_type": "code",
      "execution_count": null,
      "id": "026fd3fc-1dec-46c6-837d-fc769708328f",
      "metadata": {
        "id": "026fd3fc-1dec-46c6-837d-fc769708328f",
        "outputId": "d8765f8c-ea84-476d-be12-e37f12789383"
      },
      "outputs": [
        {
          "name": "stdin",
          "output_type": "stream",
          "text": [
            " 5\n"
          ]
        }
      ],
      "source": [
        "y=input()"
      ]
    },
    {
      "cell_type": "code",
      "execution_count": null,
      "id": "b940476c-d758-488d-968c-8d217ca97e05",
      "metadata": {
        "id": "b940476c-d758-488d-968c-8d217ca97e05"
      },
      "outputs": [],
      "source": [
        "fhfh"
      ]
    },
    {
      "cell_type": "code",
      "execution_count": null,
      "id": "046f0d64-582e-4a09-85a7-ad36b77dc8e0",
      "metadata": {
        "id": "046f0d64-582e-4a09-85a7-ad36b77dc8e0",
        "outputId": "43c4a0f1-f609-41cf-e5d9-ed861f65e937"
      },
      "outputs": [
        {
          "name": "stdin",
          "output_type": "stream",
          "text": [
            "enter your name imran\n"
          ]
        }
      ],
      "source": [
        "w=input(\"enter your name\")"
      ]
    },
    {
      "cell_type": "code",
      "execution_count": null,
      "id": "b88bd8ba-ca37-4d9e-8c4a-fbe80b292ad2",
      "metadata": {
        "id": "b88bd8ba-ca37-4d9e-8c4a-fbe80b292ad2",
        "outputId": "0931d82f-e1f9-44ec-e542-de62ee30a142"
      },
      "outputs": [
        {
          "data": {
            "text/plain": [
              "'imran'"
            ]
          },
          "execution_count": 13,
          "metadata": {},
          "output_type": "execute_result"
        }
      ],
      "source": [
        "w"
      ]
    },
    {
      "cell_type": "code",
      "execution_count": null,
      "id": "a68d7b14-fc94-48d5-b8ba-a2231f57c356",
      "metadata": {
        "id": "a68d7b14-fc94-48d5-b8ba-a2231f57c356",
        "outputId": "ea68f2ff-d70b-452d-b5a3-471b6534d18e"
      },
      "outputs": [
        {
          "name": "stdout",
          "output_type": "stream",
          "text": [
            "hi\n"
          ]
        }
      ],
      "source": [
        "print(\"hi\")"
      ]
    },
    {
      "cell_type": "code",
      "execution_count": null,
      "id": "de7cd57a-d9cc-4248-b8ef-698e69699f44",
      "metadata": {
        "id": "de7cd57a-d9cc-4248-b8ef-698e69699f44",
        "outputId": "0251e70d-23c4-45cc-f3a1-de65608c0b03"
      },
      "outputs": [
        {
          "name": "stdin",
          "output_type": "stream",
          "text": [
            "enter your name pwskills\n"
          ]
        },
        {
          "name": "stdout",
          "output_type": "stream",
          "text": [
            "pwskills\n"
          ]
        }
      ],
      "source": [
        "x=input(\"enter your name\")\n",
        "print(x)"
      ]
    },
    {
      "cell_type": "code",
      "execution_count": null,
      "id": "9856a852-fafa-4094-88f7-4bea945b65ae",
      "metadata": {
        "id": "9856a852-fafa-4094-88f7-4bea945b65ae",
        "outputId": "ea3561de-710d-4d3b-9f78-c1e82c82acea"
      },
      "outputs": [
        {
          "name": "stdin",
          "output_type": "stream",
          "text": [
            "enter your age 67\n"
          ]
        },
        {
          "name": "stdout",
          "output_type": "stream",
          "text": [
            "my age is 67\n"
          ]
        }
      ],
      "source": [
        "y=input(\"enter your age\")\n",
        "print(\"my age is \" + y)"
      ]
    },
    {
      "cell_type": "code",
      "execution_count": null,
      "id": "98e46d66-d97a-4864-9a82-35a29105b216",
      "metadata": {
        "id": "98e46d66-d97a-4864-9a82-35a29105b216",
        "outputId": "75aba25b-6f8c-4e01-8f5e-eba76ed1cb89"
      },
      "outputs": [
        {
          "name": "stdout",
          "output_type": "stream",
          "text": [
            "40\n"
          ]
        }
      ],
      "source": [
        "x=10\n",
        "y=30\n",
        "print(x+y)"
      ]
    },
    {
      "cell_type": "code",
      "execution_count": null,
      "id": "ea7203d7-812c-4903-bd48-c6b6ea3538da",
      "metadata": {
        "id": "ea7203d7-812c-4903-bd48-c6b6ea3538da",
        "outputId": "3e586240-75fb-4bf1-a937-37d798e289e1"
      },
      "outputs": [
        {
          "name": "stdin",
          "output_type": "stream",
          "text": [
            "enter first number 8\n",
            "enter second number 8\n"
          ]
        },
        {
          "name": "stdout",
          "output_type": "stream",
          "text": [
            "16\n"
          ]
        }
      ],
      "source": [
        "b =int(input(\"enter first number\"))\n",
        "c = int(input(\"enter second number\"))\n",
        "print(b+c)\n"
      ]
    },
    {
      "cell_type": "code",
      "execution_count": null,
      "id": "9809de27-7337-4e1a-a4e7-9b843e2d04cd",
      "metadata": {
        "id": "9809de27-7337-4e1a-a4e7-9b843e2d04cd",
        "outputId": "8d99d9b7-0ed6-43e6-e1b0-9684940b1931"
      },
      "outputs": [
        {
          "name": "stdin",
          "output_type": "stream",
          "text": [
            "enter any number 1\n"
          ]
        },
        {
          "name": "stdout",
          "output_type": "stream",
          "text": [
            "1\n"
          ]
        }
      ],
      "source": [
        "x=int(input(\"enter any number\"))\n",
        "print(x)"
      ]
    },
    {
      "cell_type": "code",
      "execution_count": null,
      "id": "fb9cf2d4-af8b-43ea-a245-f8b4989c1d99",
      "metadata": {
        "id": "fb9cf2d4-af8b-43ea-a245-f8b4989c1d99",
        "outputId": "cce72249-a9d5-4fef-c6d2-b4d947a1ff51"
      },
      "outputs": [
        {
          "name": "stdout",
          "output_type": "stream",
          "text": [
            "pwskills\n"
          ]
        }
      ],
      "source": [
        "print(\"pwskills\")"
      ]
    },
    {
      "cell_type": "code",
      "execution_count": null,
      "id": "4fc0b210-fc27-441b-87af-f4dc412feb1a",
      "metadata": {
        "id": "4fc0b210-fc27-441b-87af-f4dc412feb1a",
        "outputId": "2c31e922-acf0-4685-870e-f54dc628be85"
      },
      "outputs": [
        {
          "name": "stdout",
          "output_type": "stream",
          "text": [
            "hi ok  pwskills\n"
          ]
        }
      ],
      "source": [
        "x=\"hi\"\n",
        "y=\"pwskills\"\n",
        "\n",
        "print(f\"{x} ok  {y}\")"
      ]
    },
    {
      "cell_type": "code",
      "execution_count": null,
      "id": "9bf9b6df-5a91-422f-9a2d-ffbb9c082c97",
      "metadata": {
        "id": "9bf9b6df-5a91-422f-9a2d-ffbb9c082c97",
        "outputId": "fb4aef97-fa38-4721-feaa-ca789ab318cf"
      },
      "outputs": [
        {
          "name": "stdout",
          "output_type": "stream",
          "text": [
            "pw\n"
          ]
        }
      ],
      "source": [
        "print(\"pw\")"
      ]
    },
    {
      "cell_type": "code",
      "execution_count": null,
      "id": "ab44862c-ae3c-4aec-b150-ea79ae308828",
      "metadata": {
        "id": "ab44862c-ae3c-4aec-b150-ea79ae308828",
        "outputId": "291c760a-49af-4253-dbad-14fec0005121"
      },
      "outputs": [
        {
          "name": "stdout",
          "output_type": "stream",
          "text": [
            "5\n"
          ]
        }
      ],
      "source": [
        "print(\"5\")"
      ]
    },
    {
      "cell_type": "code",
      "execution_count": null,
      "id": "602de39a-9a54-4ea7-b8de-d39de1467cb5",
      "metadata": {
        "id": "602de39a-9a54-4ea7-b8de-d39de1467cb5",
        "outputId": "57885ef0-e752-417a-d4e1-2fb5b260e680"
      },
      "outputs": [
        {
          "name": "stdout",
          "output_type": "stream",
          "text": [
            "ineuron and pw and ineuron \n"
          ]
        }
      ],
      "source": [
        "print(\"{2} and {0} and {2} \".format(\"pw\",\"skills\",\"ineuron\"))"
      ]
    },
    {
      "cell_type": "code",
      "execution_count": null,
      "id": "e46ed8f2-901a-4181-9254-fc84829863df",
      "metadata": {
        "id": "e46ed8f2-901a-4181-9254-fc84829863df",
        "outputId": "147a8f93-2392-4b88-e3b3-c0a1fe7edf2b"
      },
      "outputs": [
        {
          "name": "stdout",
          "output_type": "stream",
          "text": [
            "89074562\n",
            "Hii!!\n",
            "$$Howareyou??\n",
            "10*10 = 100\n",
            "(12 > 10) and True\n",
            "I am here to learn \"python\n",
            "\n"
          ]
        }
      ],
      "source": [
        "print(\"\"\"89074562\n",
        "Hii!!\n",
        "$$Howareyou??\n",
        "10*10 = 100\n",
        "(12 > 10) and True\n",
        "I am here to learn \"python\n",
        "\"\"\")\n"
      ]
    },
    {
      "cell_type": "code",
      "execution_count": null,
      "id": "885a4076-d03a-4aff-9770-99dc9ab0393c",
      "metadata": {
        "id": "885a4076-d03a-4aff-9770-99dc9ab0393c",
        "outputId": "d2b7346d-0164-446d-db06-24080c189bed"
      },
      "outputs": [
        {
          "name": "stdout",
          "output_type": "stream",
          "text": [
            "$\n",
            "$ $ \n",
            "$ $ $\n",
            "$ $ $ $\n",
            "$ $ $ $ $\n",
            "\n"
          ]
        }
      ],
      "source": [
        "print(\"\"\"$\n",
        "$ $\n",
        "$ $ $\n",
        "$ $ $ $\n",
        "$ $ $ $ $\n",
        "\"\"\")\n"
      ]
    },
    {
      "cell_type": "code",
      "execution_count": null,
      "id": "e99664f8-f129-4f37-bd71-b8fec821e178",
      "metadata": {
        "id": "e99664f8-f129-4f37-bd71-b8fec821e178",
        "outputId": "3fc5d0fb-09db-4a18-b502-21e4fee9f1a9"
      },
      "outputs": [
        {
          "name": "stdin",
          "output_type": "stream",
          "text": [
            "enter the string imran\n"
          ]
        },
        {
          "name": "stdout",
          "output_type": "stream",
          "text": [
            "!imran!\n"
          ]
        }
      ],
      "source": [
        "x=input('enter the string')\n",
        "y=x\n",
        "z=\"!\" + x + \"!\"\n",
        "print(z)\n"
      ]
    },
    {
      "cell_type": "code",
      "execution_count": null,
      "id": "4b9fde0d-6fd7-4602-80b1-b2b1ed471e01",
      "metadata": {
        "id": "4b9fde0d-6fd7-4602-80b1-b2b1ed471e01"
      },
      "outputs": [],
      "source": [
        "a=10\n",
        "b=20"
      ]
    },
    {
      "cell_type": "code",
      "execution_count": null,
      "id": "ff299200-13ff-47f4-9529-76ff1688ba3d",
      "metadata": {
        "id": "ff299200-13ff-47f4-9529-76ff1688ba3d",
        "outputId": "00545fe7-7041-4e1f-99ff-340043535a03"
      },
      "outputs": [
        {
          "data": {
            "text/plain": [
              "30"
            ]
          },
          "execution_count": 36,
          "metadata": {},
          "output_type": "execute_result"
        }
      ],
      "source": [
        "a+b"
      ]
    },
    {
      "cell_type": "code",
      "execution_count": null,
      "id": "b45499ad-b74d-44d9-844d-53dc138ef374",
      "metadata": {
        "id": "b45499ad-b74d-44d9-844d-53dc138ef374",
        "outputId": "d1086f9f-95a8-4c71-91dc-af4819d60c69"
      },
      "outputs": [
        {
          "data": {
            "text/plain": [
              "10"
            ]
          },
          "execution_count": 37,
          "metadata": {},
          "output_type": "execute_result"
        }
      ],
      "source": [
        "b-a"
      ]
    },
    {
      "cell_type": "code",
      "execution_count": null,
      "id": "0cc3de56-2479-497c-8ffe-b82b12a0f0d6",
      "metadata": {
        "id": "0cc3de56-2479-497c-8ffe-b82b12a0f0d6",
        "outputId": "e2367630-db28-4caa-b809-01fc66380f72"
      },
      "outputs": [
        {
          "data": {
            "text/plain": [
              "200"
            ]
          },
          "execution_count": 38,
          "metadata": {},
          "output_type": "execute_result"
        }
      ],
      "source": [
        "a * b"
      ]
    },
    {
      "cell_type": "code",
      "execution_count": null,
      "id": "f0f5c191-75cb-48ff-b053-53256507cc18",
      "metadata": {
        "id": "f0f5c191-75cb-48ff-b053-53256507cc18",
        "outputId": "04e5dbb9-da55-40e0-a1b7-19646914b158"
      },
      "outputs": [
        {
          "data": {
            "text/plain": [
              "2.0"
            ]
          },
          "execution_count": 40,
          "metadata": {},
          "output_type": "execute_result"
        }
      ],
      "source": [
        "b/a"
      ]
    },
    {
      "cell_type": "code",
      "execution_count": null,
      "id": "f66126a8-270d-49b7-9bb1-8e666d3a956d",
      "metadata": {
        "id": "f66126a8-270d-49b7-9bb1-8e666d3a956d",
        "outputId": "7f8d2283-055d-49d3-c14b-b971e1306969"
      },
      "outputs": [
        {
          "data": {
            "text/plain": [
              "0"
            ]
          },
          "execution_count": 41,
          "metadata": {},
          "output_type": "execute_result"
        }
      ],
      "source": [
        "b%a"
      ]
    },
    {
      "cell_type": "code",
      "execution_count": null,
      "id": "f217d457-5462-4976-91c1-7f037a36cd91",
      "metadata": {
        "id": "f217d457-5462-4976-91c1-7f037a36cd91"
      },
      "outputs": [],
      "source": [
        "a =10"
      ]
    },
    {
      "cell_type": "code",
      "execution_count": null,
      "id": "b8161af1-0d3e-4405-9a14-96b7fb9f0da3",
      "metadata": {
        "id": "b8161af1-0d3e-4405-9a14-96b7fb9f0da3"
      },
      "outputs": [],
      "source": [
        "b=10"
      ]
    },
    {
      "cell_type": "code",
      "execution_count": null,
      "id": "62e3f74e-6d0d-4626-9b85-b55f182481e9",
      "metadata": {
        "id": "62e3f74e-6d0d-4626-9b85-b55f182481e9",
        "outputId": "b1877fae-7888-4067-9f40-54c496630e68"
      },
      "outputs": [
        {
          "data": {
            "text/plain": [
              "True"
            ]
          },
          "execution_count": 44,
          "metadata": {},
          "output_type": "execute_result"
        }
      ],
      "source": [
        "a==b"
      ]
    },
    {
      "cell_type": "code",
      "execution_count": null,
      "id": "17109110-d371-4ba4-a121-1ffc2ff615c7",
      "metadata": {
        "id": "17109110-d371-4ba4-a121-1ffc2ff615c7",
        "outputId": "4b7b0e52-8170-40be-8519-5c466bb25cbd"
      },
      "outputs": [
        {
          "data": {
            "text/plain": [
              "True"
            ]
          },
          "execution_count": 46,
          "metadata": {},
          "output_type": "execute_result"
        }
      ],
      "source": [
        "a is b # identity operator"
      ]
    },
    {
      "cell_type": "code",
      "execution_count": null,
      "id": "a483a752-56af-44df-8c4f-a431e42b06d9",
      "metadata": {
        "id": "a483a752-56af-44df-8c4f-a431e42b06d9"
      },
      "outputs": [],
      "source": [
        "a = 20"
      ]
    },
    {
      "cell_type": "code",
      "execution_count": null,
      "id": "3027e69e-7396-4e61-bb56-6295604a1ef6",
      "metadata": {
        "id": "3027e69e-7396-4e61-bb56-6295604a1ef6"
      },
      "outputs": [],
      "source": [
        "b = 30"
      ]
    },
    {
      "cell_type": "code",
      "execution_count": null,
      "id": "0bb163df-c7c4-4b90-9721-595d1e0051d4",
      "metadata": {
        "id": "0bb163df-c7c4-4b90-9721-595d1e0051d4",
        "outputId": "6deb1741-8b23-471e-8561-a34f7a82b0a8"
      },
      "outputs": [
        {
          "data": {
            "text/plain": [
              "False"
            ]
          },
          "execution_count": 50,
          "metadata": {},
          "output_type": "execute_result"
        }
      ],
      "source": [
        "a is b"
      ]
    },
    {
      "cell_type": "code",
      "execution_count": null,
      "id": "7eda19c6-0b8d-4f99-b8a1-6037793221c2",
      "metadata": {
        "id": "7eda19c6-0b8d-4f99-b8a1-6037793221c2",
        "outputId": "fbdff9bf-6d9c-4849-b0d5-771a097e5fa3"
      },
      "outputs": [
        {
          "data": {
            "text/plain": [
              "False"
            ]
          },
          "execution_count": 51,
          "metadata": {},
          "output_type": "execute_result"
        }
      ],
      "source": [
        "a == b"
      ]
    },
    {
      "cell_type": "code",
      "execution_count": null,
      "id": "51c7aa59-4973-470c-9ded-8a8a93097fb6",
      "metadata": {
        "id": "51c7aa59-4973-470c-9ded-8a8a93097fb6",
        "outputId": "a791c729-cf10-4c60-9f0d-9af016d296f0"
      },
      "outputs": [
        {
          "data": {
            "text/plain": [
              "139719936869200"
            ]
          },
          "execution_count": 52,
          "metadata": {},
          "output_type": "execute_result"
        }
      ],
      "source": [
        "id(a)"
      ]
    },
    {
      "cell_type": "code",
      "execution_count": null,
      "id": "e49619b0-bd70-40eb-bc55-59b1b7906033",
      "metadata": {
        "id": "e49619b0-bd70-40eb-bc55-59b1b7906033",
        "outputId": "2467b14f-2319-4533-ede6-37dbbcf89e1f"
      },
      "outputs": [
        {
          "data": {
            "text/plain": [
              "139719936869520"
            ]
          },
          "execution_count": 53,
          "metadata": {},
          "output_type": "execute_result"
        }
      ],
      "source": [
        "id(b)"
      ]
    },
    {
      "cell_type": "code",
      "execution_count": null,
      "id": "fe2e6e82-8294-49b0-bd59-0cd61b196c0c",
      "metadata": {
        "id": "fe2e6e82-8294-49b0-bd59-0cd61b196c0c",
        "outputId": "36ca874a-3b69-4709-bb2a-d6414fcc323e"
      },
      "outputs": [
        {
          "data": {
            "text/plain": [
              "False"
            ]
          },
          "execution_count": 54,
          "metadata": {},
          "output_type": "execute_result"
        }
      ],
      "source": [
        "a is b"
      ]
    },
    {
      "cell_type": "code",
      "execution_count": null,
      "id": "c0345155-5fd8-4b17-b08c-1c8b257da602",
      "metadata": {
        "id": "c0345155-5fd8-4b17-b08c-1c8b257da602",
        "outputId": "49a492e1-f023-4b31-8750-f1c0f6faf75a"
      },
      "outputs": [
        {
          "data": {
            "text/plain": [
              "True"
            ]
          },
          "execution_count": 55,
          "metadata": {},
          "output_type": "execute_result"
        }
      ],
      "source": [
        " a!= b"
      ]
    },
    {
      "cell_type": "code",
      "execution_count": null,
      "id": "1ca26537-09f0-46c8-88ce-9a65efe8e4e7",
      "metadata": {
        "id": "1ca26537-09f0-46c8-88ce-9a65efe8e4e7"
      },
      "outputs": [],
      "source": [
        "a = [1,2,3]"
      ]
    },
    {
      "cell_type": "code",
      "execution_count": null,
      "id": "4d460b05-97ce-4fdb-97d6-7aa0ba40146a",
      "metadata": {
        "id": "4d460b05-97ce-4fdb-97d6-7aa0ba40146a"
      },
      "outputs": [],
      "source": [
        "b = [1,2,3]"
      ]
    },
    {
      "cell_type": "code",
      "execution_count": null,
      "id": "0ee11fd1-0db6-4888-9e7e-4403bff3261f",
      "metadata": {
        "id": "0ee11fd1-0db6-4888-9e7e-4403bff3261f",
        "outputId": "b50a9ad9-5729-49f4-9da3-db523f5c5e30"
      },
      "outputs": [
        {
          "data": {
            "text/plain": [
              "True"
            ]
          },
          "execution_count": 58,
          "metadata": {},
          "output_type": "execute_result"
        }
      ],
      "source": [
        "a == b"
      ]
    },
    {
      "cell_type": "code",
      "execution_count": null,
      "id": "bbb893e4-3c2a-4c77-8592-790caf7cd0f6",
      "metadata": {
        "id": "bbb893e4-3c2a-4c77-8592-790caf7cd0f6",
        "outputId": "d8ae6cb9-0b11-4dc2-c633-b897e127bf2c"
      },
      "outputs": [
        {
          "data": {
            "text/plain": [
              "False"
            ]
          },
          "execution_count": 59,
          "metadata": {},
          "output_type": "execute_result"
        }
      ],
      "source": [
        "a is b"
      ]
    },
    {
      "cell_type": "code",
      "execution_count": null,
      "id": "97e1b3a1-59cb-489f-b161-49af0b264781",
      "metadata": {
        "id": "97e1b3a1-59cb-489f-b161-49af0b264781",
        "outputId": "d1c171b2-c32c-4c08-aa82-9710776e70e5"
      },
      "outputs": [
        {
          "data": {
            "text/plain": [
              "139719587465088"
            ]
          },
          "execution_count": 60,
          "metadata": {},
          "output_type": "execute_result"
        }
      ],
      "source": [
        "id(a)"
      ]
    },
    {
      "cell_type": "code",
      "execution_count": null,
      "id": "702df503-9935-4eb6-a81a-2f7ff00d119a",
      "metadata": {
        "id": "702df503-9935-4eb6-a81a-2f7ff00d119a",
        "outputId": "b7ecd403-967e-4457-fd16-6b7cb38478c2"
      },
      "outputs": [
        {
          "data": {
            "text/plain": [
              "139719587849216"
            ]
          },
          "execution_count": 61,
          "metadata": {},
          "output_type": "execute_result"
        }
      ],
      "source": [
        "id(b)"
      ]
    },
    {
      "cell_type": "code",
      "execution_count": null,
      "id": "f4046891-8814-4bec-a154-3f806c5ffdc6",
      "metadata": {
        "id": "f4046891-8814-4bec-a154-3f806c5ffdc6"
      },
      "outputs": [],
      "source": [
        "a=[1,2,3]"
      ]
    },
    {
      "cell_type": "code",
      "execution_count": null,
      "id": "e830a239-122c-4df9-b9f8-c5bd30226cb2",
      "metadata": {
        "id": "e830a239-122c-4df9-b9f8-c5bd30226cb2"
      },
      "outputs": [],
      "source": [
        "b=a"
      ]
    },
    {
      "cell_type": "code",
      "execution_count": null,
      "id": "d847c6cc-aea1-4ba9-a1da-f4f89e3f7364",
      "metadata": {
        "id": "d847c6cc-aea1-4ba9-a1da-f4f89e3f7364",
        "outputId": "b7219eec-07b7-434b-c299-bf457a0bf127"
      },
      "outputs": [
        {
          "data": {
            "text/plain": [
              "True"
            ]
          },
          "execution_count": 64,
          "metadata": {},
          "output_type": "execute_result"
        }
      ],
      "source": [
        "a is b"
      ]
    },
    {
      "cell_type": "code",
      "execution_count": null,
      "id": "b8ab1f60-b79e-42e3-87c1-672d63b42248",
      "metadata": {
        "id": "b8ab1f60-b79e-42e3-87c1-672d63b42248",
        "outputId": "28fdeeeb-e121-487c-94ba-f14f180d2117"
      },
      "outputs": [
        {
          "data": {
            "text/plain": [
              "True"
            ]
          },
          "execution_count": 65,
          "metadata": {},
          "output_type": "execute_result"
        }
      ],
      "source": [
        "a == b"
      ]
    },
    {
      "cell_type": "code",
      "execution_count": null,
      "id": "5d5eb164-6a09-474f-9819-722d1a6fbb64",
      "metadata": {
        "id": "5d5eb164-6a09-474f-9819-722d1a6fbb64",
        "outputId": "87da191d-31d2-42b6-cb67-d2143586ad00"
      },
      "outputs": [
        {
          "name": "stdin",
          "output_type": "stream",
          "text": [
            "Enter an integer:  10\n"
          ]
        },
        {
          "name": "stdout",
          "output_type": "stream",
          "text": [
            "5003154509899970\n"
          ]
        }
      ],
      "source": [
        "x = int(input(\"Enter an integer: \"))\n",
        "y=3**35//x\n",
        "print(y)\n"
      ]
    },
    {
      "cell_type": "code",
      "execution_count": null,
      "id": "9b3c18b2-0f33-4625-9763-563fc28469d6",
      "metadata": {
        "id": "9b3c18b2-0f33-4625-9763-563fc28469d6",
        "outputId": "86322613-59e7-4717-8c5d-794f851f9e17"
      },
      "outputs": [
        {
          "data": {
            "text/plain": [
              "4"
            ]
          },
          "execution_count": 67,
          "metadata": {},
          "output_type": "execute_result"
        }
      ],
      "source": [
        "2**2"
      ]
    },
    {
      "cell_type": "code",
      "execution_count": null,
      "id": "a203026f-5230-4712-aa59-0f146e7ed074",
      "metadata": {
        "id": "a203026f-5230-4712-aa59-0f146e7ed074"
      },
      "outputs": [],
      "source": [
        "a = 10"
      ]
    },
    {
      "cell_type": "code",
      "execution_count": null,
      "id": "3a8b07e1-6514-4853-ac8d-4f933e683d90",
      "metadata": {
        "id": "3a8b07e1-6514-4853-ac8d-4f933e683d90"
      },
      "outputs": [],
      "source": [
        "b=20"
      ]
    },
    {
      "cell_type": "code",
      "execution_count": null,
      "id": "ac81a075-03d9-4fdb-9d78-b3ad2056154a",
      "metadata": {
        "id": "ac81a075-03d9-4fdb-9d78-b3ad2056154a",
        "outputId": "c27d7b71-2259-4a3c-d2ea-632f4f9d0b1c"
      },
      "outputs": [
        {
          "data": {
            "text/plain": [
              "False"
            ]
          },
          "execution_count": 73,
          "metadata": {},
          "output_type": "execute_result"
        }
      ],
      "source": [
        "a > b"
      ]
    },
    {
      "cell_type": "code",
      "execution_count": null,
      "id": "b1395022-58a2-4561-985f-e19abf7c42df",
      "metadata": {
        "id": "b1395022-58a2-4561-985f-e19abf7c42df",
        "outputId": "01eca0a9-3cd4-4794-bc83-150709ad29dd"
      },
      "outputs": [
        {
          "data": {
            "text/plain": [
              "True"
            ]
          },
          "execution_count": 74,
          "metadata": {},
          "output_type": "execute_result"
        }
      ],
      "source": [
        "a < b"
      ]
    },
    {
      "cell_type": "code",
      "execution_count": null,
      "id": "6ffb27bf-e4e5-420f-bba5-a3ec5f1af1b3",
      "metadata": {
        "id": "6ffb27bf-e4e5-420f-bba5-a3ec5f1af1b3",
        "outputId": "e6479a09-3363-429e-c68e-4850b3e1af0d"
      },
      "outputs": [
        {
          "data": {
            "text/plain": [
              "2"
            ]
          },
          "execution_count": 76,
          "metadata": {},
          "output_type": "execute_result"
        }
      ],
      "source": [
        "5%3\n"
      ]
    },
    {
      "cell_type": "code",
      "execution_count": null,
      "id": "afd9b277-7f0f-4026-81ff-281525b89dad",
      "metadata": {
        "id": "afd9b277-7f0f-4026-81ff-281525b89dad",
        "outputId": "39a94b38-eb86-41dd-b0c2-b8813170551c"
      },
      "outputs": [
        {
          "data": {
            "text/plain": [
              "2"
            ]
          },
          "execution_count": 75,
          "metadata": {},
          "output_type": "execute_result"
        }
      ],
      "source": [
        "5%3\n"
      ]
    },
    {
      "cell_type": "code",
      "execution_count": null,
      "id": "02287fb0-409c-4f69-a55d-4c00153b9831",
      "metadata": {
        "id": "02287fb0-409c-4f69-a55d-4c00153b9831"
      },
      "outputs": [],
      "source": [
        "a = 10"
      ]
    },
    {
      "cell_type": "code",
      "execution_count": null,
      "id": "16aa6418-c331-4902-8743-d2b0db6a8337",
      "metadata": {
        "id": "16aa6418-c331-4902-8743-d2b0db6a8337"
      },
      "outputs": [],
      "source": [
        "b = 4"
      ]
    },
    {
      "cell_type": "code",
      "execution_count": null,
      "id": "6060ed48-2769-4717-a36a-9a597af28f39",
      "metadata": {
        "id": "6060ed48-2769-4717-a36a-9a597af28f39",
        "outputId": "b6f13283-84a5-4592-dd8b-83afa783a7a9"
      },
      "outputs": [
        {
          "data": {
            "text/plain": [
              "'0b1010'"
            ]
          },
          "execution_count": 79,
          "metadata": {},
          "output_type": "execute_result"
        }
      ],
      "source": [
        "bin(a)"
      ]
    },
    {
      "cell_type": "code",
      "execution_count": null,
      "id": "bdbd58ce-8fc4-4bd4-b88f-d7f604b79382",
      "metadata": {
        "id": "bdbd58ce-8fc4-4bd4-b88f-d7f604b79382",
        "outputId": "387f666b-117f-4170-bbee-63a807b16348"
      },
      "outputs": [
        {
          "data": {
            "text/plain": [
              "'0b100'"
            ]
          },
          "execution_count": 80,
          "metadata": {},
          "output_type": "execute_result"
        }
      ],
      "source": [
        "bin(b)"
      ]
    },
    {
      "cell_type": "code",
      "execution_count": null,
      "id": "0850b285-c117-48bd-a081-91a7c310d324",
      "metadata": {
        "id": "0850b285-c117-48bd-a081-91a7c310d324",
        "outputId": "b00fc6bb-fa01-44fb-d2a7-db8b3ddb5229"
      },
      "outputs": [
        {
          "data": {
            "text/plain": [
              "0"
            ]
          },
          "execution_count": 81,
          "metadata": {},
          "output_type": "execute_result"
        }
      ],
      "source": [
        "a & b\n",
        "# and operator"
      ]
    },
    {
      "cell_type": "code",
      "execution_count": null,
      "id": "b0e5602f-d12b-4258-8fa1-135527beca78",
      "metadata": {
        "id": "b0e5602f-d12b-4258-8fa1-135527beca78",
        "outputId": "93f7c61d-5727-4a37-f8e6-20254fd9a9a0"
      },
      "outputs": [
        {
          "data": {
            "text/plain": [
              "14"
            ]
          },
          "execution_count": 82,
          "metadata": {},
          "output_type": "execute_result"
        }
      ],
      "source": [
        "a | b\n",
        "# or"
      ]
    },
    {
      "cell_type": "code",
      "execution_count": null,
      "id": "bf4ae149-a5c7-4a40-ab65-4a748f66dc4f",
      "metadata": {
        "id": "bf4ae149-a5c7-4a40-ab65-4a748f66dc4f",
        "outputId": "b8531576-d99a-46fc-bb39-bf8e1e55af4f"
      },
      "outputs": [
        {
          "data": {
            "text/plain": [
              "10"
            ]
          },
          "execution_count": 85,
          "metadata": {},
          "output_type": "execute_result"
        }
      ],
      "source": [
        "a"
      ]
    },
    {
      "cell_type": "code",
      "execution_count": null,
      "id": "ac2ff05b-7d78-4977-a427-55f10b81ae0e",
      "metadata": {
        "id": "ac2ff05b-7d78-4977-a427-55f10b81ae0e",
        "outputId": "b383d303-48f2-4194-cc45-0d7023ed8453"
      },
      "outputs": [
        {
          "data": {
            "text/plain": [
              "-11"
            ]
          },
          "execution_count": 86,
          "metadata": {},
          "output_type": "execute_result"
        }
      ],
      "source": [
        "~a"
      ]
    },
    {
      "cell_type": "code",
      "execution_count": null,
      "id": "7899d78d-8334-4772-a0a5-3eddb0656da9",
      "metadata": {
        "id": "7899d78d-8334-4772-a0a5-3eddb0656da9",
        "outputId": "34ee5898-2fea-4d61-a885-519c3c26be34"
      },
      "outputs": [
        {
          "data": {
            "text/plain": [
              "14"
            ]
          },
          "execution_count": 87,
          "metadata": {},
          "output_type": "execute_result"
        }
      ],
      "source": [
        "a ^ b"
      ]
    },
    {
      "cell_type": "code",
      "execution_count": null,
      "id": "3b8ced6f-fd70-4aaa-9b7e-0c6ccabee8da",
      "metadata": {
        "id": "3b8ced6f-fd70-4aaa-9b7e-0c6ccabee8da"
      },
      "outputs": [],
      "source": [
        "a = 10"
      ]
    },
    {
      "cell_type": "code",
      "execution_count": null,
      "id": "487e0774-a031-46b1-926a-dc6d71a3617b",
      "metadata": {
        "id": "487e0774-a031-46b1-926a-dc6d71a3617b"
      },
      "outputs": [],
      "source": [
        "b = 4"
      ]
    },
    {
      "cell_type": "code",
      "execution_count": null,
      "id": "a09428ff-69c8-4688-b7b7-2534d1c9cb59",
      "metadata": {
        "id": "a09428ff-69c8-4688-b7b7-2534d1c9cb59",
        "outputId": "f6afa936-3489-4051-c220-91cc3f28ca9a"
      },
      "outputs": [
        {
          "data": {
            "text/plain": [
              "'0b1010'"
            ]
          },
          "execution_count": 90,
          "metadata": {},
          "output_type": "execute_result"
        }
      ],
      "source": [
        "bin(a)"
      ]
    },
    {
      "cell_type": "code",
      "execution_count": null,
      "id": "89794a0c-6b02-40a6-8943-55cc0927b793",
      "metadata": {
        "id": "89794a0c-6b02-40a6-8943-55cc0927b793",
        "outputId": "0780337c-b514-4c37-d6f9-c9eb8d83f496"
      },
      "outputs": [
        {
          "data": {
            "text/plain": [
              "'0b100'"
            ]
          },
          "execution_count": 91,
          "metadata": {},
          "output_type": "execute_result"
        }
      ],
      "source": [
        "bin(b)"
      ]
    },
    {
      "cell_type": "code",
      "execution_count": null,
      "id": "9caefef8-69e2-4f37-8b43-22493ba55e47",
      "metadata": {
        "id": "9caefef8-69e2-4f37-8b43-22493ba55e47",
        "outputId": "cd55dd4b-0705-4591-eee5-8f7af5f11429"
      },
      "outputs": [
        {
          "data": {
            "text/plain": [
              "14"
            ]
          },
          "execution_count": 92,
          "metadata": {},
          "output_type": "execute_result"
        }
      ],
      "source": [
        "a ^ b"
      ]
    },
    {
      "cell_type": "code",
      "execution_count": null,
      "id": "eb538116-accc-4583-b03a-37c4b038fb82",
      "metadata": {
        "id": "eb538116-accc-4583-b03a-37c4b038fb82"
      },
      "outputs": [],
      "source": [
        "1010\n",
        "0100\n",
        "-----\n",
        "1110"
      ]
    },
    {
      "cell_type": "code",
      "execution_count": null,
      "id": "cf2d236c-c0f5-4cb8-889c-939af7e13c57",
      "metadata": {
        "id": "cf2d236c-c0f5-4cb8-889c-939af7e13c57"
      },
      "outputs": [],
      "source": [
        "a = 10"
      ]
    },
    {
      "cell_type": "code",
      "execution_count": null,
      "id": "537161ee-3da2-47cb-83b2-56d5ca2bef16",
      "metadata": {
        "id": "537161ee-3da2-47cb-83b2-56d5ca2bef16",
        "outputId": "b00cc00d-05e6-4ecd-a4a7-802860ddb578"
      },
      "outputs": [
        {
          "data": {
            "text/plain": [
              "5"
            ]
          },
          "execution_count": 94,
          "metadata": {},
          "output_type": "execute_result"
        }
      ],
      "source": [
        "a >> 1"
      ]
    },
    {
      "cell_type": "code",
      "execution_count": null,
      "id": "e3077f2a-e681-4f8d-a686-6b82603b5d50",
      "metadata": {
        "id": "e3077f2a-e681-4f8d-a686-6b82603b5d50"
      },
      "outputs": [],
      "source": [
        "a = 10"
      ]
    },
    {
      "cell_type": "code",
      "execution_count": null,
      "id": "f66f6374-2a70-445c-9054-ec47916e96df",
      "metadata": {
        "id": "f66f6374-2a70-445c-9054-ec47916e96df",
        "outputId": "b8dcaf36-7168-4f6f-e868-c58bc1956fa0"
      },
      "outputs": [
        {
          "data": {
            "text/plain": [
              "20"
            ]
          },
          "execution_count": 96,
          "metadata": {},
          "output_type": "execute_result"
        }
      ],
      "source": [
        "a << 1"
      ]
    },
    {
      "cell_type": "code",
      "execution_count": null,
      "id": "fabf557c-8bf3-4d38-82a1-b8d3f6ef9cf6",
      "metadata": {
        "id": "fabf557c-8bf3-4d38-82a1-b8d3f6ef9cf6"
      },
      "outputs": [],
      "source": [
        "a = 10"
      ]
    },
    {
      "cell_type": "code",
      "execution_count": null,
      "id": "9dbcb5e0-270f-418e-b787-666ec3b57b3c",
      "metadata": {
        "id": "9dbcb5e0-270f-418e-b787-666ec3b57b3c",
        "outputId": "bd7a1579-d63e-40dd-f7f3-b1ed6957d0c7"
      },
      "outputs": [
        {
          "data": {
            "text/plain": [
              "-11"
            ]
          },
          "execution_count": 100,
          "metadata": {},
          "output_type": "execute_result"
        }
      ],
      "source": [
        "~a"
      ]
    },
    {
      "cell_type": "code",
      "execution_count": null,
      "id": "d31566b2-f7b7-4839-9522-466e5cd0b33c",
      "metadata": {
        "id": "d31566b2-f7b7-4839-9522-466e5cd0b33c"
      },
      "outputs": [],
      "source": [
        "a= 10"
      ]
    },
    {
      "cell_type": "code",
      "execution_count": null,
      "id": "42e82c5c-3422-408f-8b42-a540d14a1f3c",
      "metadata": {
        "id": "42e82c5c-3422-408f-8b42-a540d14a1f3c"
      },
      "outputs": [],
      "source": [
        "a = a+ 1"
      ]
    },
    {
      "cell_type": "code",
      "execution_count": null,
      "id": "9433c282-30ef-45d3-9c97-698cb3bd53b1",
      "metadata": {
        "id": "9433c282-30ef-45d3-9c97-698cb3bd53b1",
        "outputId": "c18cfe92-71b9-4f61-9c45-6b435d80805d"
      },
      "outputs": [
        {
          "data": {
            "text/plain": [
              "11"
            ]
          },
          "execution_count": 103,
          "metadata": {},
          "output_type": "execute_result"
        }
      ],
      "source": [
        "a"
      ]
    },
    {
      "cell_type": "code",
      "execution_count": null,
      "id": "5d120f59-7b26-4a5f-b10a-a8cd025f8469",
      "metadata": {
        "id": "5d120f59-7b26-4a5f-b10a-a8cd025f8469"
      },
      "outputs": [],
      "source": [
        "a+="
      ]
    },
    {
      "cell_type": "code",
      "execution_count": null,
      "id": "555287b5-725c-4b73-8bdd-c3efa57b6e12",
      "metadata": {
        "id": "555287b5-725c-4b73-8bdd-c3efa57b6e12"
      },
      "outputs": [],
      "source": [
        "a = a+ 1"
      ]
    },
    {
      "cell_type": "code",
      "execution_count": null,
      "id": "2dd5b1d8-72ac-4ba1-8372-08c09fa6c08d",
      "metadata": {
        "id": "2dd5b1d8-72ac-4ba1-8372-08c09fa6c08d"
      },
      "outputs": [],
      "source": [
        "a= 10"
      ]
    },
    {
      "cell_type": "code",
      "execution_count": null,
      "id": "bf68cc36-d10e-4506-9a56-95505ec7a129",
      "metadata": {
        "id": "bf68cc36-d10e-4506-9a56-95505ec7a129"
      },
      "outputs": [],
      "source": [
        "a+=3\n",
        "a+*"
      ]
    },
    {
      "cell_type": "code",
      "execution_count": null,
      "id": "d43cb400-bc17-486f-ad4e-f9a75ee403bc",
      "metadata": {
        "id": "d43cb400-bc17-486f-ad4e-f9a75ee403bc",
        "outputId": "7ebbb2d5-3db5-4fce-ec6e-d34b363bce31"
      },
      "outputs": [
        {
          "data": {
            "text/plain": [
              "13"
            ]
          },
          "execution_count": 106,
          "metadata": {},
          "output_type": "execute_result"
        }
      ],
      "source": [
        "a"
      ]
    },
    {
      "cell_type": "code",
      "execution_count": null,
      "id": "cf9a2b6d-7c38-477b-a40f-a35e55181b3c",
      "metadata": {
        "id": "cf9a2b6d-7c38-477b-a40f-a35e55181b3c"
      },
      "outputs": [],
      "source": [
        "a = a+3"
      ]
    }
  ],
  "metadata": {
    "kernelspec": {
      "display_name": "Python 3 (ipykernel)",
      "language": "python",
      "name": "python3"
    },
    "language_info": {
      "codemirror_mode": {
        "name": "ipython",
        "version": 3
      },
      "file_extension": ".py",
      "mimetype": "text/x-python",
      "name": "python",
      "nbconvert_exporter": "python",
      "pygments_lexer": "ipython3",
      "version": "3.10.8"
    },
    "colab": {
      "provenance": [],
      "include_colab_link": true
    }
  },
  "nbformat": 4,
  "nbformat_minor": 5
}